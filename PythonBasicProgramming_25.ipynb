{
 "cells": [
  {
   "cell_type": "markdown",
   "id": "91ed5e01",
   "metadata": {},
   "source": [
    "1. Create a function that takes three integer arguments (a, b, c) and returns the amount of integers which are of equal value."
   ]
  },
  {
   "cell_type": "code",
   "execution_count": 1,
   "id": "04696c87",
   "metadata": {},
   "outputs": [],
   "source": [
    "def equal(a, b, c):\n",
    "    lst = [a, b, c]\n",
    "    \n",
    "    for i in set(lst):\n",
    "        if lst.count(i) == 3:\n",
    "            return 3\n",
    "        elif lst.count(i) == 2:\n",
    "            return 2\n",
    "    return 0"
   ]
  },
  {
   "cell_type": "code",
   "execution_count": 2,
   "id": "cf2d7ed3",
   "metadata": {},
   "outputs": [
    {
     "name": "stdout",
     "output_type": "stream",
     "text": [
      "2\n",
      "3\n",
      "0\n"
     ]
    }
   ],
   "source": [
    "print(equal(3, 4, 3))\n",
    "print(equal(1, 1, 1))\n",
    "print(equal(3, 4, 1))"
   ]
  },
  {
   "cell_type": "markdown",
   "id": "0f7fbe1e",
   "metadata": {},
   "source": [
    "2. Write a function that converts a dictionary into a list of keys-values tuples."
   ]
  },
  {
   "cell_type": "code",
   "execution_count": 3,
   "id": "d9d832b7",
   "metadata": {},
   "outputs": [],
   "source": [
    "def dict_to_list(d:dict):\n",
    "    return [(k, v) for k, v in sorted(d.items())]"
   ]
  },
  {
   "cell_type": "code",
   "execution_count": 4,
   "id": "d9c0192a",
   "metadata": {},
   "outputs": [
    {
     "data": {
      "text/plain": [
       "[('B', 2), ('C', 3), ('D', 1)]"
      ]
     },
     "execution_count": 4,
     "metadata": {},
     "output_type": "execute_result"
    }
   ],
   "source": [
    "dict_to_list({\n",
    "  \"D\": 1,\n",
    "  \"B\": 2,\n",
    "  \"C\": 3\n",
    "})"
   ]
  },
  {
   "cell_type": "code",
   "execution_count": 5,
   "id": "a13e6d16",
   "metadata": {},
   "outputs": [
    {
     "data": {
      "text/plain": [
       "[('dislikes', 3), ('followers', 10), ('likes', 2)]"
      ]
     },
     "execution_count": 5,
     "metadata": {},
     "output_type": "execute_result"
    }
   ],
   "source": [
    "dict_to_list({\n",
    "  \"likes\": 2,\n",
    "  \"dislikes\": 3,\n",
    "  \"followers\": 10\n",
    "})"
   ]
  },
  {
   "cell_type": "markdown",
   "id": "1eb9d68a",
   "metadata": {},
   "source": [
    "3. Write a function that creates a dictionary with each (key, value) pair being the (lower case, upper case) versions of a letter, respectively"
   ]
  },
  {
   "cell_type": "code",
   "execution_count": 6,
   "id": "58fcaef0",
   "metadata": {},
   "outputs": [],
   "source": [
    "def mapping(lst: list):\n",
    "    return {i.lower(): i.upper() for i in lst}"
   ]
  },
  {
   "cell_type": "code",
   "execution_count": 7,
   "id": "4f5fe23e",
   "metadata": {},
   "outputs": [
    {
     "name": "stdout",
     "output_type": "stream",
     "text": [
      "{'p': 'P', 's': 'S'}\n",
      "{'a': 'A', 'b': 'B', 'c': 'C'}\n",
      "{'a': 'A', 'v': 'V', 'y': 'Y', 'z': 'Z'}\n"
     ]
    }
   ],
   "source": [
    "print(mapping([\"p\", \"s\"]))\n",
    "print(mapping([\"a\", \"b\", \"c\"]))\n",
    "print(mapping([\"a\", \"v\", \"y\", \"z\"]))"
   ]
  },
  {
   "cell_type": "markdown",
   "id": "10559ec1",
   "metadata": {},
   "source": [
    "4. Write a function, that replaces all vowels in a string with a specified vowel."
   ]
  },
  {
   "cell_type": "code",
   "execution_count": 8,
   "id": "8379c0ac",
   "metadata": {},
   "outputs": [],
   "source": [
    "def vow_replace(string: str, char: str):\n",
    "    vowels = 'aeiou'\n",
    "    for i in string:\n",
    "        if i in vowels:\n",
    "            string = string.replace(i, char)\n",
    "            \n",
    "    return string"
   ]
  },
  {
   "cell_type": "code",
   "execution_count": 9,
   "id": "76ea919a",
   "metadata": {},
   "outputs": [
    {
     "name": "stdout",
     "output_type": "stream",
     "text": [
      "upplus und bununus\n",
      "chooso cossorolo\n",
      "steffed jelepene peppers\n"
     ]
    }
   ],
   "source": [
    "print(vow_replace(\"apples and bananas\", \"u\"))\n",
    "print(vow_replace(\"cheese casserole\", \"o\"))\n",
    "print(vow_replace(\"stuffed jalapeno poppers\", \"e\"))"
   ]
  },
  {
   "cell_type": "markdown",
   "id": "f00acd04",
   "metadata": {},
   "source": [
    "5. Create a function that takes a string as input and capitalizes a letter if its ASCII code is even and returns its lower case version if its ASCII code is odd."
   ]
  },
  {
   "cell_type": "code",
   "execution_count": 10,
   "id": "02b67a3f",
   "metadata": {},
   "outputs": [],
   "source": [
    "def ascii_capitalize(string: str):\n",
    "    for i in string:\n",
    "        if ord(i) % 2 == 0:\n",
    "            string = string.replace(i, i.upper())\n",
    "        else:\n",
    "            string = string.replace(i, i.lower())\n",
    "    return string"
   ]
  },
  {
   "cell_type": "code",
   "execution_count": 11,
   "id": "7867e49e",
   "metadata": {},
   "outputs": [
    {
     "data": {
      "text/plain": [
       "'To Be oR NoT To Be!'"
      ]
     },
     "execution_count": 11,
     "metadata": {},
     "output_type": "execute_result"
    }
   ],
   "source": [
    "ascii_capitalize(\"to be or not to be!\") "
   ]
  },
  {
   "cell_type": "code",
   "execution_count": 12,
   "id": "6f95ba30",
   "metadata": {},
   "outputs": [
    {
     "data": {
      "text/plain": [
       "'THe LiTTLe meRmaiD'"
      ]
     },
     "execution_count": 12,
     "metadata": {},
     "output_type": "execute_result"
    }
   ],
   "source": [
    "ascii_capitalize(\"THE LITTLE MERMAID\")"
   ]
  },
  {
   "cell_type": "code",
   "execution_count": 13,
   "id": "2b4e6acc",
   "metadata": {},
   "outputs": [
    {
     "data": {
      "text/plain": [
       "'oH wHaT a BeauTiFuL moRNiNg.'"
      ]
     },
     "execution_count": 13,
     "metadata": {},
     "output_type": "execute_result"
    }
   ],
   "source": [
    "ascii_capitalize(\"Oh what a beautiful morning.\")"
   ]
  }
 ],
 "metadata": {
  "kernelspec": {
   "display_name": "Python 3",
   "language": "python",
   "name": "python3"
  },
  "language_info": {
   "codemirror_mode": {
    "name": "ipython",
    "version": 3
   },
   "file_extension": ".py",
   "mimetype": "text/x-python",
   "name": "python",
   "nbconvert_exporter": "python",
   "pygments_lexer": "ipython3",
   "version": "3.8.8"
  }
 },
 "nbformat": 4,
 "nbformat_minor": 5
}
