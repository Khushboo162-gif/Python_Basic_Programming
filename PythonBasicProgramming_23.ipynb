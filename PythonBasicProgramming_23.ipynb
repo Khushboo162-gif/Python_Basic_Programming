{
 "cells": [
  {
   "cell_type": "markdown",
   "id": "484cca8b",
   "metadata": {},
   "source": [
    "1. Create a function that takes a number as an argument and returns True or False depending on whether the number is symmetrical or not. A number is symmetrical when it is the same as its reverse."
   ]
  },
  {
   "cell_type": "code",
   "execution_count": 3,
   "id": "8c040faf",
   "metadata": {},
   "outputs": [],
   "source": [
    "def is_symmetrical(num):\n",
    "    currentDigit = reversedDigit = 0\n",
    "    remainingNum = num\n",
    "    while(remainingNum != 0):\n",
    "        currentDigit = remainingNum % 10\n",
    "        reversedDigit = reversedDigit * 10 + currentDigit\n",
    "        remainingNum = remainingNum // 10\n",
    "\n",
    "    if reversedDigit == num:\n",
    "        return True\n",
    "    else:\n",
    "        return False"
   ]
  },
  {
   "cell_type": "code",
   "execution_count": 4,
   "id": "b76f1e7a",
   "metadata": {},
   "outputs": [
    {
     "name": "stdout",
     "output_type": "stream",
     "text": [
      "True\n",
      "False\n",
      "True\n",
      "False\n",
      "True\n"
     ]
    }
   ],
   "source": [
    "print(is_symmetrical(7227))\n",
    "print(is_symmetrical(12567))\n",
    "print(is_symmetrical(44444444))\n",
    "print(is_symmetrical(9939))\n",
    "print(is_symmetrical(1112111))"
   ]
  },
  {
   "cell_type": "markdown",
   "id": "feb875ed",
   "metadata": {},
   "source": [
    "2. Given a string of numbers separated by a comma and space, return the product of the numbers."
   ]
  },
  {
   "cell_type": "code",
   "execution_count": 5,
   "id": "6dff81fd",
   "metadata": {},
   "outputs": [],
   "source": [
    "def multiply_nums(s):\n",
    "    product = 1\n",
    "    for i in s.split(','):\n",
    "        product = product * int(i)\n",
    "    return product"
   ]
  },
  {
   "cell_type": "code",
   "execution_count": 6,
   "id": "1759f95c",
   "metadata": {},
   "outputs": [
    {
     "name": "stdout",
     "output_type": "stream",
     "text": [
      "6\n",
      "24\n",
      "0\n",
      "-20\n"
     ]
    }
   ],
   "source": [
    "print(multiply_nums('2, 3'))\n",
    "print(multiply_nums('1, 2, 3, 4'))\n",
    "print(multiply_nums('54, 75, 453, 0'))\n",
    "print(multiply_nums('10, -2'))"
   ]
  },
  {
   "cell_type": "markdown",
   "id": "2ac10c69",
   "metadata": {},
   "source": [
    "3. Create a function that squares every digit of a number."
   ]
  },
  {
   "cell_type": "code",
   "execution_count": 7,
   "id": "ebda16de",
   "metadata": {},
   "outputs": [],
   "source": [
    "def square_digits(num):\n",
    "    res = \"\"\n",
    "    for c in str(num):\n",
    "        res += str(int(c)**2)\n",
    "    return int(res)"
   ]
  },
  {
   "cell_type": "code",
   "execution_count": 8,
   "id": "07964a9e",
   "metadata": {},
   "outputs": [
    {
     "name": "stdout",
     "output_type": "stream",
     "text": [
      "811181\n",
      "416649\n",
      "9414\n"
     ]
    }
   ],
   "source": [
    "print(square_digits(9119))\n",
    "print(square_digits(2483))\n",
    "print(square_digits(3212))"
   ]
  },
  {
   "cell_type": "markdown",
   "id": "fddb8dfd",
   "metadata": {},
   "source": [
    "4. Create a function that sorts a list and removes all duplicate items from it."
   ]
  },
  {
   "cell_type": "code",
   "execution_count": 9,
   "id": "16960fc0",
   "metadata": {},
   "outputs": [],
   "source": [
    "def setify(lst):\n",
    "    return list(set(lst))"
   ]
  },
  {
   "cell_type": "code",
   "execution_count": 10,
   "id": "9a6402cc",
   "metadata": {},
   "outputs": [
    {
     "name": "stdout",
     "output_type": "stream",
     "text": [
      "[1, 3, 5]\n",
      "[4]\n",
      "[5, 7, 8, 9, 10, 15]\n",
      "[1, 2, 3]\n"
     ]
    }
   ],
   "source": [
    "print(setify([1, 3, 3, 5, 5]))\n",
    "print(setify([4, 4, 4, 4]))\n",
    "print(setify([5, 7, 8, 9, 10, 15]))\n",
    "print(setify([3, 3, 3, 2, 1]))"
   ]
  },
  {
   "cell_type": "markdown",
   "id": "28a65a61",
   "metadata": {},
   "source": [
    "5. Create a function that returns the mean of all digits."
   ]
  },
  {
   "cell_type": "code",
   "execution_count": 13,
   "id": "da72ff98",
   "metadata": {},
   "outputs": [],
   "source": [
    "def mean(n): \n",
    "    N = len(str(n)) \n",
    "    sum = mean = 0\n",
    "    \n",
    "    for digit in str(n):\n",
    "        sum += int(digit)       \n",
    "    return int(sum/N)"
   ]
  },
  {
   "cell_type": "code",
   "execution_count": 14,
   "id": "a3d7fb33",
   "metadata": {},
   "outputs": [
    {
     "name": "stdout",
     "output_type": "stream",
     "text": [
      "3\n",
      "3\n",
      "6\n"
     ]
    }
   ],
   "source": [
    "print(mean(42))\n",
    "print(mean(12345))\n",
    "print(mean(666))"
   ]
  }
 ],
 "metadata": {
  "kernelspec": {
   "display_name": "Python 3",
   "language": "python",
   "name": "python3"
  },
  "language_info": {
   "codemirror_mode": {
    "name": "ipython",
    "version": 3
   },
   "file_extension": ".py",
   "mimetype": "text/x-python",
   "name": "python",
   "nbconvert_exporter": "python",
   "pygments_lexer": "ipython3",
   "version": "3.8.8"
  }
 },
 "nbformat": 4,
 "nbformat_minor": 5
}
