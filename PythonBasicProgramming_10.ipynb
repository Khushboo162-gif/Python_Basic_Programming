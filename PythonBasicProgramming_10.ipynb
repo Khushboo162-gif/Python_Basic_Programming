{
 "cells": [
  {
   "cell_type": "markdown",
   "id": "52ca6f95",
   "metadata": {},
   "source": [
    "1. Write a Python program to find sum of elements in list?"
   ]
  },
  {
   "cell_type": "code",
   "execution_count": 1,
   "id": "75a27add",
   "metadata": {},
   "outputs": [
    {
     "name": "stdout",
     "output_type": "stream",
     "text": [
      "25\n"
     ]
    }
   ],
   "source": [
    "l = [2, 4, 1, 5, 6, 7]\n",
    "\n",
    "total = 0\n",
    "for i in l:\n",
    "    total += i\n",
    "    \n",
    "print(total)"
   ]
  },
  {
   "cell_type": "markdown",
   "id": "5d0b8152",
   "metadata": {},
   "source": [
    "2. Write a Python program to Multiply all numbers in the list?"
   ]
  },
  {
   "cell_type": "code",
   "execution_count": 2,
   "id": "767acb3d",
   "metadata": {},
   "outputs": [
    {
     "name": "stdout",
     "output_type": "stream",
     "text": [
      "1680\n"
     ]
    }
   ],
   "source": [
    "l = [2, 4, 1, 5, 6, 7]\n",
    "\n",
    "mul = 1\n",
    "for i in l:\n",
    "    mul *= i\n",
    "    \n",
    "print(mul)"
   ]
  },
  {
   "cell_type": "markdown",
   "id": "73f33e5a",
   "metadata": {},
   "source": [
    "3. Write a Python program to find smallest number in a list?"
   ]
  },
  {
   "cell_type": "code",
   "execution_count": 3,
   "id": "5dbe34e1",
   "metadata": {},
   "outputs": [
    {
     "name": "stdout",
     "output_type": "stream",
     "text": [
      "-7123\n"
     ]
    }
   ],
   "source": [
    "l = [2, 0, 1, 1235, 6, -7123]\n",
    "\n",
    "minimum = l[0]\n",
    "for i in l:\n",
    "    if i < minimum:\n",
    "        minimum = i\n",
    "        \n",
    "print(minimum)"
   ]
  },
  {
   "cell_type": "markdown",
   "id": "718e78a5",
   "metadata": {},
   "source": [
    "4. Write a Python program to find largest number in a list?"
   ]
  },
  {
   "cell_type": "code",
   "execution_count": 4,
   "id": "7fb99dcc",
   "metadata": {},
   "outputs": [
    {
     "name": "stdout",
     "output_type": "stream",
     "text": [
      "1235\n"
     ]
    }
   ],
   "source": [
    "l = [2, 0, 1, 1235, 6, -7123]\n",
    "\n",
    "maximum = l[0]\n",
    "for i in l:\n",
    "    if i > maximum:\n",
    "        maximum = i\n",
    "        \n",
    "print(maximum)"
   ]
  },
  {
   "cell_type": "markdown",
   "id": "b2c3a5e3",
   "metadata": {},
   "source": [
    "5. Write a Python program to find second largest number in a list?"
   ]
  },
  {
   "cell_type": "code",
   "execution_count": 5,
   "id": "cb8896e6",
   "metadata": {},
   "outputs": [
    {
     "name": "stdout",
     "output_type": "stream",
     "text": [
      "Second largest number: 6\n"
     ]
    }
   ],
   "source": [
    "l = [2, 0, 1, 1235, 6, -7123]\n",
    "l.sort(reverse=True)\n",
    "print(\"Second largest number:\", l[1])"
   ]
  },
  {
   "cell_type": "markdown",
   "id": "47f6e29b",
   "metadata": {},
   "source": [
    "6. Write a Python program to find N largest elements from a list?"
   ]
  },
  {
   "cell_type": "code",
   "execution_count": 6,
   "id": "168cb42c",
   "metadata": {},
   "outputs": [],
   "source": [
    "def findLarge(lst, n):\n",
    "    \n",
    "    lst.sort(reverse = True)\n",
    "    return lst[n-1]"
   ]
  },
  {
   "cell_type": "code",
   "execution_count": 7,
   "id": "134c6322",
   "metadata": {},
   "outputs": [
    {
     "data": {
      "text/plain": [
       "6"
      ]
     },
     "execution_count": 7,
     "metadata": {},
     "output_type": "execute_result"
    }
   ],
   "source": [
    "# 2nd Largest Element\n",
    "\n",
    "l = [2, 0, 1, 1235, 6, -7123]\n",
    "findLarge(l, 2)"
   ]
  },
  {
   "cell_type": "code",
   "execution_count": 8,
   "id": "02990e85",
   "metadata": {},
   "outputs": [
    {
     "data": {
      "text/plain": [
       "1"
      ]
     },
     "execution_count": 8,
     "metadata": {},
     "output_type": "execute_result"
    }
   ],
   "source": [
    "# 4th Largest Element\n",
    "\n",
    "l = [2, 0, 1, 1235, 6, -7123]\n",
    "findLarge(l, 4)"
   ]
  },
  {
   "cell_type": "markdown",
   "id": "791e1add",
   "metadata": {},
   "source": [
    "7. Write a Python program to print even numbers in a list?"
   ]
  },
  {
   "cell_type": "code",
   "execution_count": 9,
   "id": "72b4f66b",
   "metadata": {},
   "outputs": [
    {
     "data": {
      "text/plain": [
       "[2, 0, 6, 54, 12, -42]"
      ]
     },
     "execution_count": 9,
     "metadata": {},
     "output_type": "execute_result"
    }
   ],
   "source": [
    "l = [2, 0, 1, 1235, 6, -7123, 21, 54, 12, -23, -42]\n",
    "\n",
    "[ i for i in l if i%2 == 0]"
   ]
  },
  {
   "cell_type": "markdown",
   "id": "47c7b578",
   "metadata": {},
   "source": [
    "8. Write a Python program to print odd numbers in a List?"
   ]
  },
  {
   "cell_type": "code",
   "execution_count": 10,
   "id": "425b2780",
   "metadata": {},
   "outputs": [
    {
     "data": {
      "text/plain": [
       "[1, 1235, -7123, 21, -23]"
      ]
     },
     "execution_count": 10,
     "metadata": {},
     "output_type": "execute_result"
    }
   ],
   "source": [
    "l = [2, 0, 1, 1235, 6, -7123, 21, 54, 12, -23, -42]\n",
    "\n",
    "[ i for i in l if i%2 == 1]"
   ]
  },
  {
   "cell_type": "markdown",
   "id": "fcae4d07",
   "metadata": {},
   "source": [
    "9. Write a Python program to Remove empty List from List?"
   ]
  },
  {
   "cell_type": "code",
   "execution_count": 11,
   "id": "3a327271",
   "metadata": {},
   "outputs": [
    {
     "data": {
      "text/plain": [
       "[12, 31, [1, 2, -23], [1], [123.23], 2, 321]"
      ]
     },
     "execution_count": 11,
     "metadata": {},
     "output_type": "execute_result"
    }
   ],
   "source": [
    "l = [[], 12, 31, [1,2, -23] , [1], [], [123.23], [], 2, 321]\n",
    "\n",
    "result = []\n",
    "for i in l:\n",
    "    if type(i) == list:\n",
    "        if len(i) != 0:\n",
    "            result.append(i)\n",
    "    else:\n",
    "        result.append(i)\n",
    "\n",
    "result\n",
    "            "
   ]
  },
  {
   "cell_type": "markdown",
   "id": "6c65faea",
   "metadata": {},
   "source": [
    "10. Write a Python program to Cloning or Copying a list?"
   ]
  },
  {
   "cell_type": "code",
   "execution_count": 12,
   "id": "168324c2",
   "metadata": {},
   "outputs": [
    {
     "name": "stdout",
     "output_type": "stream",
     "text": [
      "[2, 1, 31, 3, 412, 3, 4667, [2, 3, 1]]\n"
     ]
    }
   ],
   "source": [
    "list1 = [2,1, 31, 3, 412, 3, 4667, [2,3,1]]\n",
    "list2 = []\n",
    "\n",
    "for i in list1:\n",
    "    list2.append(i)\n",
    "    \n",
    "print(list2)"
   ]
  },
  {
   "cell_type": "markdown",
   "id": "081b19d9",
   "metadata": {},
   "source": [
    "11. Write a Python program to Count occurrences of an element in a list?"
   ]
  },
  {
   "cell_type": "code",
   "execution_count": 13,
   "id": "e367305f",
   "metadata": {},
   "outputs": [],
   "source": [
    "l = [1,1,1, 3, 4, 1, 7, 8, 6,6,2,1]\n",
    "\n",
    "def occurrences(lst, element):\n",
    "    count = 0\n",
    "    for i in lst:\n",
    "        if i == element:\n",
    "            count += 1\n",
    "            \n",
    "    return count"
   ]
  },
  {
   "cell_type": "code",
   "execution_count": 14,
   "id": "a91350a6",
   "metadata": {},
   "outputs": [
    {
     "data": {
      "text/plain": [
       "5"
      ]
     },
     "execution_count": 14,
     "metadata": {},
     "output_type": "execute_result"
    }
   ],
   "source": [
    "occurrences(l, 1)"
   ]
  }
 ],
 "metadata": {
  "kernelspec": {
   "display_name": "Python 3",
   "language": "python",
   "name": "python3"
  },
  "language_info": {
   "codemirror_mode": {
    "name": "ipython",
    "version": 3
   },
   "file_extension": ".py",
   "mimetype": "text/x-python",
   "name": "python",
   "nbconvert_exporter": "python",
   "pygments_lexer": "ipython3",
   "version": "3.8.8"
  }
 },
 "nbformat": 4,
 "nbformat_minor": 5
}
